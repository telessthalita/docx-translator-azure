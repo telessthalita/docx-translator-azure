{
  "nbformat": 4,
  "nbformat_minor": 0,
  "metadata": {
    "colab": {
      "provenance": [],
      "authorship_tag": "ABX9TyMbboydQHIpnlMPFeYS36u1",
      "include_colab_link": true
    },
    "kernelspec": {
      "name": "python3",
      "display_name": "Python 3"
    },
    "language_info": {
      "name": "python"
    }
  },
  "cells": [
    {
      "cell_type": "markdown",
      "metadata": {
        "id": "view-in-github",
        "colab_type": "text"
      },
      "source": [
        "<a href=\"https://colab.research.google.com/github/telessthalita/docx-translator-azure/blob/main/translate.ipynb\" target=\"_parent\"><img src=\"https://colab.research.google.com/assets/colab-badge.svg\" alt=\"Open In Colab\"/></a>"
      ]
    },
    {
      "cell_type": "code",
      "execution_count": 4,
      "metadata": {
        "colab": {
          "base_uri": "https://localhost:8080/"
        },
        "collapsed": true,
        "id": "52SdINPSujoj",
        "outputId": "56bc581e-8b3a-4925-c6f4-ef584fa26b9e"
      },
      "outputs": [
        {
          "output_type": "stream",
          "name": "stdout",
          "text": [
            "Requirement already satisfied: requests in /usr/local/lib/python3.10/dist-packages (2.32.3)\n",
            "Requirement already satisfied: python-docx in /usr/local/lib/python3.10/dist-packages (1.1.2)\n",
            "Requirement already satisfied: charset-normalizer<4,>=2 in /usr/local/lib/python3.10/dist-packages (from requests) (3.4.0)\n",
            "Requirement already satisfied: idna<4,>=2.5 in /usr/local/lib/python3.10/dist-packages (from requests) (3.10)\n",
            "Requirement already satisfied: urllib3<3,>=1.21.1 in /usr/local/lib/python3.10/dist-packages (from requests) (2.2.3)\n",
            "Requirement already satisfied: certifi>=2017.4.17 in /usr/local/lib/python3.10/dist-packages (from requests) (2024.8.30)\n",
            "Requirement already satisfied: lxml>=3.1.0 in /usr/local/lib/python3.10/dist-packages (from python-docx) (5.3.0)\n",
            "Requirement already satisfied: typing-extensions>=4.9.0 in /usr/local/lib/python3.10/dist-packages (from python-docx) (4.12.2)\n"
          ]
        }
      ],
      "source": [
        "!pip install requests python-docx"
      ]
    },
    {
      "cell_type": "code",
      "source": [
        "import os\n",
        "import requests\n",
        "from docx import Document\n",
        "\n",
        "subscription_key = \"5AjVoY5tTsqLBi71iODTs7spDW1wmnTNBJQrIPxx1k3Gp1mRRiB8JQQJ99AKACHYHv6XJ3w3AAAbACOG3pt0\"\n",
        "endpoint = 'https://api.cognitive.microsofttranslator.com/'\n",
        "location = 'eastus2'\n",
        "language_destination = 'pt-br'\n",
        "\n",
        "def translator_text(text, target_language):\n",
        "    path = '/translate'\n",
        "    constructed_url = endpoint + path\n",
        "    headers = {\n",
        "        'Ocp-Apim-Subscription-Key': subscription_key,\n",
        "        'Ocp-Apim-Subscription-Region': location,\n",
        "        'Content-type': 'application/json',\n",
        "        'X-ClientTraceId': str(os.urandom(16))\n",
        "    }\n",
        "    body = [\n",
        "        {\n",
        "            'text': text\n",
        "        }\n",
        "    ]\n",
        "    params = {\n",
        "        'api-version': '3.0',\n",
        "        'from': 'en',\n",
        "        'to': target_language\n",
        "    }\n",
        "\n",
        "    request = requests.post(constructed_url, params=params, headers=headers, json=body)\n",
        "    response = request.json()\n",
        "    return response[0][\"translations\"][0][\"text\"]\n"
      ],
      "metadata": {
        "id": "OrfJqLkjw6Zr"
      },
      "execution_count": 31,
      "outputs": []
    },
    {
      "cell_type": "code",
      "source": [
        "translator_text(\"Hello World\", language_destination)\n"
      ],
      "metadata": {
        "colab": {
          "base_uri": "https://localhost:8080/",
          "height": 35
        },
        "id": "Zwc5whNG2OdX",
        "outputId": "6a3963cf-52c2-4a66-a325-a15062cad7ae"
      },
      "execution_count": 34,
      "outputs": [
        {
          "output_type": "execute_result",
          "data": {
            "text/plain": [
              "'Olá, mundo'"
            ],
            "application/vnd.google.colaboratory.intrinsic+json": {
              "type": "string"
            }
          },
          "metadata": {},
          "execution_count": 34
        }
      ]
    },
    {
      "cell_type": "code",
      "source": [
        "def translate_document(path):\n",
        "    document = Document(path)\n",
        "    full_text = []\n",
        "\n",
        "    for paragraph in document.paragraphs:\n",
        "        translated_text = translator_text(paragraph.text, language_destination)\n",
        "        full_text.append(translated_text)\n",
        "\n",
        "    translated_doc = Document()\n",
        "    for line in full_text:\n",
        "        translated_doc.add_paragraph(line)\n",
        "\n",
        "    path_translated = path.replace(\".docx\", f\"_{language_destination}.docx\")\n",
        "    translated_doc.save(path_translated)\n",
        "\n",
        "    return path_translated\n"
      ],
      "metadata": {
        "id": "uBinYHYG80T-"
      },
      "execution_count": 36,
      "outputs": []
    },
    {
      "cell_type": "code",
      "source": [
        "input_file = \"/content/musica.docx\"\n",
        "translate_document(input_file)"
      ],
      "metadata": {
        "colab": {
          "base_uri": "https://localhost:8080/",
          "height": 35
        },
        "id": "cdqWodqw_GPE",
        "outputId": "5dc8ca75-9c16-4a4b-e110-adcfb144c258"
      },
      "execution_count": 37,
      "outputs": [
        {
          "output_type": "execute_result",
          "data": {
            "text/plain": [
              "'/content/musica_pt-br.docx'"
            ],
            "application/vnd.google.colaboratory.intrinsic+json": {
              "type": "string"
            }
          },
          "metadata": {},
          "execution_count": 37
        }
      ]
    }
  ]
}